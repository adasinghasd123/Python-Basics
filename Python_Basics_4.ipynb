{
  "nbformat": 4,
  "nbformat_minor": 0,
  "metadata": {
    "colab": {
      "name": "Python_Basics_4.ipynb",
      "provenance": [],
      "authorship_tag": "ABX9TyNPjtxheeC54ihg7+7Pt5s6",
      "include_colab_link": true
    },
    "kernelspec": {
      "name": "python3",
      "display_name": "Python 3"
    },
    "language_info": {
      "name": "python"
    }
  },
  "cells": [
    {
      "cell_type": "markdown",
      "metadata": {
        "id": "view-in-github",
        "colab_type": "text"
      },
      "source": [
        "<a href=\"https://colab.research.google.com/github/adasinghasd123/Python-Basics/blob/main/Python_Basics_4.ipynb\" target=\"_parent\"><img src=\"https://colab.research.google.com/assets/colab-badge.svg\" alt=\"Open In Colab\"/></a>"
      ]
    },
    {
      "cell_type": "code",
      "metadata": {
        "colab": {
          "base_uri": "https://localhost:8080/"
        },
        "id": "1WSpDG8UyLGz",
        "outputId": "b3dd543a-18b2-49ef-feeb-37231913f5c9"
      },
      "source": [
        "#Find Smallest element in an array using Python\n",
        "#We can do this by sorting the list and return the first element of the list.\n",
        "a=list(map(int,input(\"\").split()))\n",
        "a.sort()\n",
        "print(a[0])"
      ],
      "execution_count": 4,
      "outputs": [
        {
          "output_type": "stream",
          "text": [
            "9 8 7 6 5 4\n",
            "4\n"
          ],
          "name": "stdout"
        }
      ]
    },
    {
      "cell_type": "code",
      "metadata": {
        "colab": {
          "base_uri": "https://localhost:8080/"
        },
        "id": "0-PjO7ACyp6k",
        "outputId": "1f3f3ffc-e1d5-4e7f-f972-def969ae2d04"
      },
      "source": [
        "#Find Second Smallest Element in an Array using Python\n",
        "#We can do this by sorting the list and return the second element of the list.\n",
        "a=list(map(int,input().split()))\n",
        "a.sort()\n",
        "print(a[1])"
      ],
      "execution_count": 5,
      "outputs": [
        {
          "output_type": "stream",
          "text": [
            "8 7 6 5 4 3 2\n",
            "3\n"
          ],
          "name": "stdout"
        }
      ]
    },
    {
      "cell_type": "code",
      "metadata": {
        "colab": {
          "base_uri": "https://localhost:8080/"
        },
        "id": "_sXLJE7Zzv35",
        "outputId": "d75bb1fd-3749-4d5a-cf98-c3a8deeb0b38"
      },
      "source": [
        "#Find Largest element in an array using Python\n",
        "#We can do this by sorting the list and return the last element of the list.\n",
        "a=list(map(int,input().split()))\n",
        "a.sort()\n",
        "print(a[-1])\n"
      ],
      "execution_count": 6,
      "outputs": [
        {
          "output_type": "stream",
          "text": [
            "4 3 6 8 3 12 7 9\n",
            "12\n"
          ],
          "name": "stdout"
        }
      ]
    },
    {
      "cell_type": "code",
      "metadata": {
        "colab": {
          "base_uri": "https://localhost:8080/"
        },
        "id": "XUwNglfJ0ETB",
        "outputId": "eb0be136-a8c5-4c32-f26f-f0af502b0730"
      },
      "source": [
        "#Find the Smallest and largest element in an array using Python\n",
        "#Find Largest element in an array using Python\n",
        "#We can do this by sorting the list and return the first and last element of the list.\n",
        "a=list(map(int,input().split()))\n",
        "a.sort()\n",
        "print(a[0], a[-1])\n",
        "\n"
      ],
      "execution_count": 8,
      "outputs": [
        {
          "output_type": "stream",
          "text": [
            "4 5 6 3 6 8767 3445\n",
            "3 8767\n"
          ],
          "name": "stdout"
        }
      ]
    },
    {
      "cell_type": "code",
      "metadata": {
        "colab": {
          "base_uri": "https://localhost:8080/"
        },
        "id": "W84v02vR0Vhb",
        "outputId": "d95682f3-137c-4efc-9df2-8c4a212e9640"
      },
      "source": [
        "#Calculate the sum of elements in an array using Python\n",
        "a=list(map(int,input().split()))\n",
        "s=0\n",
        "for i in a:\n",
        "  s+=i\n",
        "print(s)"
      ],
      "execution_count": 10,
      "outputs": [
        {
          "output_type": "stream",
          "text": [
            "3 4 5 6 7 8\n",
            "33\n"
          ],
          "name": "stdout"
        }
      ]
    },
    {
      "cell_type": "code",
      "metadata": {
        "colab": {
          "base_uri": "https://localhost:8080/"
        },
        "id": "Q9GSh76L0y0s",
        "outputId": "e693081e-81eb-443a-f6ef-a545e84511f9"
      },
      "source": [
        "#Python Code for Reverse an Array\n",
        "#For reversing a list we use inbuilt method called as reverse()\n",
        "a=list(map(int,input().split()))\n",
        "a.reverse()\n",
        "print(\"Reversed array is :- \",a)"
      ],
      "execution_count": 12,
      "outputs": [
        {
          "output_type": "stream",
          "text": [
            "1 2 3 4 5 6 78\n",
            "Reversed array is :-  [78, 6, 5, 4, 3, 2, 1]\n"
          ],
          "name": "stdout"
        }
      ]
    },
    {
      "cell_type": "code",
      "metadata": {
        "colab": {
          "base_uri": "https://localhost:8080/"
        },
        "id": "tWV6X10_1eI6",
        "outputId": "5b68dc41-4536-48e2-c9ac-be4a4cab6201"
      },
      "source": [
        "#Sort first half array in ascending and second half in descending order\n",
        "a=list(map(int,input().split()))\n",
        "x=[]\n",
        "y=[]\n",
        "n=len(a)\n",
        "for i in range(n//2):\n",
        "    x.append(a[i])\n",
        "for i in range(n//2,n):\n",
        "    y.append(a[i])\n",
        "x.sort()\n",
        "y.sort(reverse=True)\n",
        "print(x+y)"
      ],
      "execution_count": 16,
      "outputs": [
        {
          "output_type": "stream",
          "text": [
            "4 3 2 6 8 6 43 1 79 4 3\n",
            "[2, 3, 4, 6, 8, 79, 43, 6, 4, 3, 1]\n"
          ],
          "name": "stdout"
        }
      ]
    },
    {
      "cell_type": "code",
      "metadata": {
        "colab": {
          "base_uri": "https://localhost:8080/"
        },
        "id": "vUH9_gh-2Ozy",
        "outputId": "8a56a7c3-4f2e-477e-d015-c61947672387"
      },
      "source": [
        "#Finding the frequency of elements in an array using Python\n",
        "a=list(map(int,input().split()))\n",
        "ar=[]\n",
        "for i in a:\n",
        "  if i not in ar:\n",
        "    ar.append(i)\n",
        "for i in ar: \n",
        "  print(\"\\n {} occurs {} time(s)\".format(i,a.count(i)))     "
      ],
      "execution_count": 17,
      "outputs": [
        {
          "output_type": "stream",
          "text": [
            "1 2 3 4 5 2 3 4 5 6 7 4 2 2\n",
            "\n",
            " 1 occurs 1 time(s)\n",
            "\n",
            " 2 occurs 4 time(s)\n",
            "\n",
            " 3 occurs 2 time(s)\n",
            "\n",
            " 4 occurs 3 time(s)\n",
            "\n",
            " 5 occurs 2 time(s)\n",
            "\n",
            " 6 occurs 1 time(s)\n",
            "\n",
            " 7 occurs 1 time(s)\n"
          ],
          "name": "stdout"
        }
      ]
    },
    {
      "cell_type": "code",
      "metadata": {
        "colab": {
          "base_uri": "https://localhost:8080/"
        },
        "id": "GfRq8jzj4Slt",
        "outputId": "a72ec25a-98b0-4663-c165-c45e06525d65"
      },
      "source": [
        "#Count the distinct elements\n",
        "a=list(map(int,input().split()))\n",
        "ar=[]\n",
        "for i in a:\n",
        "  if i not in ar:\n",
        "    ar.append(i)\n",
        "print(\"Size:-\",len(ar))    "
      ],
      "execution_count": 19,
      "outputs": [
        {
          "output_type": "stream",
          "text": [
            "1 2 3 4 4 5 6 677\n",
            "Size:- 7\n"
          ],
          "name": "stdout"
        }
      ]
    },
    {
      "cell_type": "code",
      "metadata": {
        "colab": {
          "base_uri": "https://localhost:8080/"
        },
        "id": "AoyHI0s-4xCK",
        "outputId": "89b1ae27-3e71-4908-ab0b-2b37428b155b"
      },
      "source": [
        "#Repeating element of an array\n",
        "a=list(map(int,input().split()))\n",
        "ar=[]\n",
        "for i in a:\n",
        "  if i not in ar:\n",
        "    ar.append(i)\n",
        "for i in ar:\n",
        "  if a.count(i)>1:\n",
        "    print(i,end=' ')    "
      ],
      "execution_count": 20,
      "outputs": [
        {
          "output_type": "stream",
          "text": [
            "1 2 3 45 4 3 3 6 7 4 33 44 33\n",
            "3 4 33 "
          ],
          "name": "stdout"
        }
      ]
    },
    {
      "cell_type": "code",
      "metadata": {
        "colab": {
          "base_uri": "https://localhost:8080/"
        },
        "id": "SYzEuhaE5cEn",
        "outputId": "6336f1a8-2482-42c3-9fa6-e086d3dad36b"
      },
      "source": [
        "#Non-repeating elements\n",
        "a=list(map(int,input().split()))\n",
        "ar=[]\n",
        "for i in a:\n",
        "  if i not in ar:\n",
        "    ar.append(i)\n",
        "for i in ar:\n",
        "  if a.count(i)==1:\n",
        "    print(i,end=' ')    "
      ],
      "execution_count": 21,
      "outputs": [
        {
          "output_type": "stream",
          "text": [
            "1 2 3 3 3 4 5 6 7663 4 5 6\n",
            "1 2 7663 "
          ],
          "name": "stdout"
        }
      ]
    },
    {
      "cell_type": "code",
      "metadata": {
        "colab": {
          "base_uri": "https://localhost:8080/"
        },
        "id": "W7RoQ3ip5p_A",
        "outputId": "175937ba-2d9a-47ee-fb49-60bc010bfe92"
      },
      "source": [
        "#program to remove duplicate elements in Array\n",
        "#Here we use another inbuilt function that is set() to remove duplicates from array\n",
        "a=list(map(int,input().split()))\n",
        "a=set(a)\n",
        "print(a)"
      ],
      "execution_count": 22,
      "outputs": [
        {
          "output_type": "stream",
          "text": [
            "1 2 3 4 51 2 3 45\n",
            "{1, 2, 3, 4, 45, 51}\n"
          ],
          "name": "stdout"
        }
      ]
    },
    {
      "cell_type": "code",
      "metadata": {
        "colab": {
          "base_uri": "https://localhost:8080/"
        },
        "id": "44ONwIN66fTA",
        "outputId": "c04a5e64-bb30-4e5f-a5c8-01a0ba21f514"
      },
      "source": [
        "#Counting the number of even and odd elements in an array\n",
        "a=list(map(int,input().split()))\n",
        "even=0\n",
        "odd=0\n",
        "for i in a:\n",
        "  if i%2==0:\n",
        "    even+=1\n",
        "  else:\n",
        "    odd+=1  \n",
        "print(\"Even:-\",even)\n",
        "print(\"Odd:-\",odd)    "
      ],
      "execution_count": 24,
      "outputs": [
        {
          "output_type": "stream",
          "text": [
            "1 2 3 4 5  6 7 8 9 \n",
            "Even:- 4\n",
            "Odd:- 5\n"
          ],
          "name": "stdout"
        }
      ]
    },
    {
      "cell_type": "code",
      "metadata": {
        "id": "Ep7dSurV7GPZ"
      },
      "source": [
        ""
      ],
      "execution_count": null,
      "outputs": []
    }
  ]
}