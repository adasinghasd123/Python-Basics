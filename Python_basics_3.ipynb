{
  "nbformat": 4,
  "nbformat_minor": 0,
  "metadata": {
    "colab": {
      "name": "Python_basics_3.ipynb",
      "provenance": [],
      "authorship_tag": "ABX9TyNDtSpviH+ohzYcuD9pOozY",
      "include_colab_link": true
    },
    "kernelspec": {
      "name": "python3",
      "display_name": "Python 3"
    },
    "language_info": {
      "name": "python"
    }
  },
  "cells": [
    {
      "cell_type": "markdown",
      "metadata": {
        "id": "view-in-github",
        "colab_type": "text"
      },
      "source": [
        "<a href=\"https://colab.research.google.com/github/adasinghasd123/Python-Basics/blob/main/Python_basics_3.ipynb\" target=\"_parent\"><img src=\"https://colab.research.google.com/assets/colab-badge.svg\" alt=\"Open In Colab\"/></a>"
      ]
    },
    {
      "cell_type": "code",
      "metadata": {
        "colab": {
          "base_uri": "https://localhost:8080/"
        },
        "id": "W4k8Z3a6cKvx",
        "outputId": "b976a931-df12-4059-fa3a-071f8a09f890"
      },
      "source": [
        "#Can A Number Be Expressed As A Sum Of Two Prime Numbers?\n",
        "n=int(input(\"Enter a number:- \"))\n",
        "p=[]\n",
        "#Now finding the prime number less than or equal to n\n",
        "for i in range(2,n):\n",
        "  c=0\n",
        "  for j in range(2,i):\n",
        "    if i%j==0:\n",
        "      c+=1\n",
        "#append prime numbers to array      \n",
        "  if c==0:\n",
        "    p.append(i) \n",
        "#possible combinations\n",
        "flag = 0\n",
        "for i in range(len(p)):\n",
        "    for j in range(i+1,len(p)):\n",
        "        #if condition is True Print numbers\n",
        "        if(p[i] + p[j] == n):\n",
        "            flag = 1\n",
        "            print(str(p[i]) + \" and \" + str(p[j]) + ' are prime numbers when added gives ' + str(n))\n",
        "            break\n",
        "if(flag == 0):\n",
        "  print('No Prime numbers can give sum of ' + str(n))\n",
        "\n",
        "\n"
      ],
      "execution_count": 11,
      "outputs": [
        {
          "output_type": "stream",
          "text": [
            "Enter a number:- 30\n",
            "7 and 23 are prime numbers when added gives 30\n",
            "11 and 19 are prime numbers when added gives 30\n",
            "13 and 17 are prime numbers when added gives 30\n"
          ],
          "name": "stdout"
        }
      ]
    },
    {
      "cell_type": "code",
      "metadata": {
        "colab": {
          "base_uri": "https://localhost:8080/"
        },
        "id": "P8eSfwGBdehZ",
        "outputId": "e670927c-2027-48ec-b0a2-8be789b622f3"
      },
      "source": [
        "#Checking a character is vowel or consonant \n",
        "Char=input(\"Enter the character:- \").lower()\n",
        "\n",
        "if (Char == 'a' or Char == 'e' or Char == 'i' or Char == 'o' or Char == 'u'): \n",
        "  print(\"Character is vowel\")\n",
        "else:\n",
        "  print(\"Character is consonant\")\n",
        "\n"
      ],
      "execution_count": 12,
      "outputs": [
        {
          "output_type": "stream",
          "text": [
            "Enter the character:- w\n",
            "Character is consonant\n"
          ],
          "name": "stdout"
        }
      ]
    },
    {
      "cell_type": "code",
      "metadata": {
        "colab": {
          "base_uri": "https://localhost:8080/"
        },
        "id": "cTlk7kSNgWIN",
        "outputId": "7027e820-cf0e-4a92-dcd6-a77422a2966f"
      },
      "source": [
        "#Checking whether a Character is Alphabet or Not?\n",
        "#In this we use inbulit function that is isalpha()\n",
        "char=input(\"Enter the character:- \")\n",
        "if char.isalpha():\n",
        "  print(\"Given character is alphabet\")\n",
        "else:\n",
        "  print(\"Given character is not alphabet\")  "
      ],
      "execution_count": 13,
      "outputs": [
        {
          "output_type": "stream",
          "text": [
            "Enter the character:- 2\n",
            "Given character is not alphabet\n"
          ],
          "name": "stdout"
        }
      ]
    },
    {
      "cell_type": "code",
      "metadata": {
        "colab": {
          "base_uri": "https://localhost:8080/"
        },
        "id": "4NfREL3WhRFW",
        "outputId": "933f1a71-8dc1-4759-d14e-df7ecf71adcb"
      },
      "source": [
        "#Calculating the area of circle\n",
        "#Area of circle is pi*r*r or pi*r**2\n",
        "import math as m\n",
        "r=int(input(\"Enter the radius of circle:- \"))\n",
        "A=m.pi*(r**2)\n",
        "print(\"Area of Circle is:- \",A)"
      ],
      "execution_count": 14,
      "outputs": [
        {
          "output_type": "stream",
          "text": [
            "Enter the radius of circle:- 3\n",
            "Area of Circle is:-  28.274333882308138\n"
          ],
          "name": "stdout"
        }
      ]
    },
    {
      "cell_type": "code",
      "metadata": {
        "colab": {
          "base_uri": "https://localhost:8080/"
        },
        "id": "FCNm-FtniELX",
        "outputId": "c11473a9-bf79-46f6-883a-284d4018a9b9"
      },
      "source": [
        "#find ASCII values of a character\n",
        "#Characters ranging from 32 to 126 includes uppercase alphabets and lowercase alphabets, numeric digit from 0-9 and all special characters\n",
        "#we have used ord() function to convert a character to an integer (ASCII value). This function returns the Unicode code point of that character.\n",
        "char=input(\"Enter the character:- \")\n",
        "a=ord(char)\n",
        "print(\"ASCII value:-\",a)"
      ],
      "execution_count": 17,
      "outputs": [
        {
          "output_type": "stream",
          "text": [
            "Enter the character:- &\n",
            "ASCII value:- 38\n"
          ],
          "name": "stdout"
        }
      ]
    },
    {
      "cell_type": "code",
      "metadata": {
        "colab": {
          "base_uri": "https://localhost:8080/"
        },
        "id": "SRQDrvsDjCPT",
        "outputId": "4573717d-70d7-48a2-d7e2-f1029b72e03d"
      },
      "source": [
        "#Find Prime numbers between 1 to n\n",
        "n=int(input(\"Enter the number:- \"))\n",
        "p=[]\n",
        "for i in range(1,n):\n",
        "  c=0\n",
        "  for j in range(1,i+1):\n",
        "    if i%j==0:\n",
        "      c+=1\n",
        "  if c==2:\n",
        "    p.append(i)\n",
        "print(\"Prime Number are:-\",end=' ')\n",
        "print(*p, sep = \", \")        \n"
      ],
      "execution_count": 24,
      "outputs": [
        {
          "output_type": "stream",
          "text": [
            "Enter the number:- 9\n",
            "Prime Number are:- 2, 3, 5, 7\n"
          ],
          "name": "stdout"
        }
      ]
    },
    {
      "cell_type": "code",
      "metadata": {
        "colab": {
          "base_uri": "https://localhost:8080/"
        },
        "id": "eYDcsgxNjs8U",
        "outputId": "ebbf1320-767d-43fd-a035-c9369a46888f"
      },
      "source": [
        "#Number of digits in an integer\n",
        "Integer = int(input('Enter an integer :'))\n",
        "#initialize the variable\n",
        "#typecast the integer to string\n",
        "#store the string\n",
        "String = str(Integer)\n",
        "#use len() functiomn to find the length of a String\n",
        "#print it\n",
        "print(\"Length:-\",len(String))\n"
      ],
      "execution_count": 26,
      "outputs": [
        {
          "output_type": "stream",
          "text": [
            "Enter an integer :1234567890\n",
            "Length:- 10\n"
          ],
          "name": "stdout"
        }
      ]
    },
    {
      "cell_type": "code",
      "metadata": {
        "id": "MijO83e5k1Ql"
      },
      "source": [
        ""
      ],
      "execution_count": null,
      "outputs": []
    }
  ]
}