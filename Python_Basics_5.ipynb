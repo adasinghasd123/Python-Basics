{
  "nbformat": 4,
  "nbformat_minor": 0,
  "metadata": {
    "colab": {
      "name": "Untitled4.ipynb",
      "provenance": [],
      "authorship_tag": "ABX9TyMCVRPfUT9Q3nh3S0QFcQe+",
      "include_colab_link": true
    },
    "kernelspec": {
      "name": "python3",
      "display_name": "Python 3"
    },
    "language_info": {
      "name": "python"
    }
  },
  "cells": [
    {
      "cell_type": "markdown",
      "metadata": {
        "id": "view-in-github",
        "colab_type": "text"
      },
      "source": [
        "<a href=\"https://colab.research.google.com/github/adasinghasd123/Python-Basics/blob/main/Python_Basics_5.ipynb\" target=\"_parent\"><img src=\"https://colab.research.google.com/assets/colab-badge.svg\" alt=\"Open In Colab\"/></a>"
      ]
    },
    {
      "cell_type": "code",
      "metadata": {
        "colab": {
          "base_uri": "https://localhost:8080/"
        },
        "id": "ARDFsP6C5qCB",
        "outputId": "1d585187-ff12-4649-daf3-8049b1c69add"
      },
      "source": [
        "#Counting the number of even and odd elements in an array \n",
        "a=list(map(int,input().split()))\n",
        "even=0\n",
        "odd=0\n",
        "for i in a:\n",
        "  if i%2==0:\n",
        "    even+=1\n",
        "  else:\n",
        "    odd+=1\n",
        "print(\"Even:-\",even)\n",
        "print(\"Odd:-\",odd)      "
      ],
      "execution_count": 2,
      "outputs": [
        {
          "output_type": "stream",
          "text": [
            "1 2 3 4 5 6 7 8 9\n",
            "Even:- 4\n",
            "Odd:- 5\n"
          ],
          "name": "stdout"
        }
      ]
    },
    {
      "cell_type": "code",
      "metadata": {
        "colab": {
          "base_uri": "https://localhost:8080/"
        },
        "id": "vtZLDxWb6KGo",
        "outputId": "e496baa8-6062-402e-d624-8087956eba15"
      },
      "source": [
        "#Find whether arrays are disjoint or not\n",
        "a=list(map(int,input().split()))\n",
        "b=list(map(int,input().split()))\n",
        "count=0\n",
        "for i in a:\n",
        "  if i in b:\n",
        "    count+=1\n",
        "if count==0:\n",
        "  print(\"Disjoint\")\n",
        "else:\n",
        "  print(\"Not Disjoint\")      "
      ],
      "execution_count": 5,
      "outputs": [
        {
          "output_type": "stream",
          "text": [
            "1 2 3 4\n",
            "6 7 8 9 0 2\n",
            "Not Disjoint\n"
          ],
          "name": "stdout"
        }
      ]
    },
    {
      "cell_type": "code",
      "metadata": {
        "colab": {
          "base_uri": "https://localhost:8080/"
        },
        "id": "eVOWMVnO7EuT",
        "outputId": "c53efd12-c61a-4aa0-aa01-bbf1b71f55fb"
      },
      "source": [
        "#Check whether array is subset of another array or not\n",
        "a=list(map(int,input().split()))\n",
        "b=list(map(int,input().split()))\n",
        "count=0\n",
        "for i in b:\n",
        "  if i not in a:\n",
        "    count+=1\n",
        "if count==0:\n",
        "  print(\"Subset\")\n",
        "else:\n",
        "  print(\"Not Subset\")  "
      ],
      "execution_count": 7,
      "outputs": [
        {
          "output_type": "stream",
          "text": [
            "1 2 3 4\n",
            "1 2\n",
            "Subset\n"
          ],
          "name": "stdout"
        }
      ]
    },
    {
      "cell_type": "code",
      "metadata": {
        "colab": {
          "base_uri": "https://localhost:8080/"
        },
        "id": "6pzwS69g7lYa",
        "outputId": "647272a7-c5e7-43c8-9e70-75a47f80fc20"
      },
      "source": [
        "#Sum of minimum absolute difference of array\n",
        "\"\"\"\n",
        "To find minimum absolute difference of array we will take median of the given array\n",
        " and find out the absolute difference between median and each element of array and add all together\n",
        " \"\"\"\n",
        "a=list(map(int,input(\"Enter array\").split()))\n",
        "a.sort()\n",
        "n=len(a)\n",
        "if (n%2!=0):\n",
        "    me=a[n//2]\n",
        "else:\n",
        "    me=(a[n//2]+a[n//2+1])//2\n",
        "z=0\n",
        "for i in a:\n",
        "    z+=abs(i-me)\n",
        "print(\"Sum of minimum absolute difference of array is\",end=' ')\n",
        "print(z)"
      ],
      "execution_count": 17,
      "outputs": [
        {
          "output_type": "stream",
          "text": [
            "Enter array2 3 9 5 6\n",
            "Sum of minimum absolute difference of array is 10\n"
          ],
          "name": "stdout"
        }
      ]
    },
    {
      "cell_type": "code",
      "metadata": {
        "colab": {
          "base_uri": "https://localhost:8080/"
        },
        "id": "0z4g_Oeh8a9c",
        "outputId": "276ab32a-82a1-4400-8522-219f3e16728a"
      },
      "source": [
        "#Left Rotation of List\n",
        "a = list(map(int,input(\"ENTER ARRAY ELEMENTS \").split()))\n",
        "k = int(input(\"ENTER NO.OF ROTATIONS \"))\n",
        "print(\"ARRAY BEFORE ROTATION \",*a)\n",
        "k=k%len(a)\n",
        "for i in range(k):\n",
        "    x=a.pop(-1)\n",
        "    a.insert(0,x)\n",
        "print(\"ARRAY AFTER ROTATION  \",*a)"
      ],
      "execution_count": 18,
      "outputs": [
        {
          "output_type": "stream",
          "text": [
            "ENTER ARRAY ELEMENTS 1 2 3 4 5 6\n",
            "ENTER NO.OF ROTATIONS 2\n",
            "ARRAY BEFORE ROTATION  1 2 3 4 5 6\n",
            "ARRAY AFTER ROTATION   5 6 1 2 3 4\n"
          ],
          "name": "stdout"
        }
      ]
    },
    {
      "cell_type": "code",
      "metadata": {
        "colab": {
          "base_uri": "https://localhost:8080/"
        },
        "id": "o0ikpMSf-4L-",
        "outputId": "ec6da4b8-40ce-4f22-becc-9e151eca8f89"
      },
      "source": [
        "#Right Rotation of list\n",
        "a = list(map(int,input(\"ENTER ARRAY ELEMENTS \").split()))\n",
        "k = int(input(\"ENTER NO.OF ROTATIONS \"))\n",
        "print(\"ARRAY BEFORE ROTATION \",*a)\n",
        "k=k%len(a)\n",
        "for i in range(k):\n",
        "    x=a.pop(0)\n",
        "    a.append(x)\n",
        "print(\"ARRAY AFTER ROTATION  \",*a)"
      ],
      "execution_count": 19,
      "outputs": [
        {
          "output_type": "stream",
          "text": [
            "ENTER ARRAY ELEMENTS 1 2 3 4 5\n",
            "ENTER NO.OF ROTATIONS 2\n",
            "ARRAY BEFORE ROTATION  1 2 3 4 5\n",
            "ARRAY AFTER ROTATION   3 4 5 1 2\n"
          ],
          "name": "stdout"
        }
      ]
    },
    {
      "cell_type": "code",
      "metadata": {
        "colab": {
          "base_uri": "https://localhost:8080/"
        },
        "id": "PVss6tKA_Dyz",
        "outputId": "63349bf6-b557-4032-9278-38210e39547d"
      },
      "source": [
        "#Circular rotation of an array by K position\n",
        "a=list(map(int,input(\"ENTER ARRAY ELEMENTS \").split()))\n",
        "k=int(input(\"ENTER NO.OF ROTATIONS \"))\n",
        "print(\"ARRAY BEFORE ROTATION \",*a)\n",
        "k=k%len(a)\n",
        "for i in range(k):\n",
        "    x=a.pop(-1)\n",
        "    a.insert(0,x)\n",
        "print(\"ARRAY AFTER  ROTATION  \",*a)"
      ],
      "execution_count": 20,
      "outputs": [
        {
          "output_type": "stream",
          "text": [
            "ENTER ARRAY ELEMENTS 1 2 3 4 5\n",
            "ENTER NO.OF ROTATIONS 2\n",
            "ARRAY BEFORE ROTATION  1 2 3 4 5\n",
            "ARRAY AFTER  ROTATION   4 5 1 2 3\n"
          ],
          "name": "stdout"
        }
      ]
    },
    {
      "cell_type": "code",
      "metadata": {
        "colab": {
          "base_uri": "https://localhost:8080/"
        },
        "id": "dbha_4HLBXB_",
        "outputId": "1daa755e-a38a-40e1-e84b-ae189f01a181"
      },
      "source": [
        "row=int(input())\n",
        "col=row\n",
        "k=1\n",
        "for i in range(1,row+1):\n",
        "  for j in range(1,col+1):\n",
        "    if j<=i:\n",
        "      print(k,end=' ')\n",
        "      k+=1\n",
        "    else:\n",
        "      print(\" \",end='')\n",
        "  print()      "
      ],
      "execution_count": 22,
      "outputs": [
        {
          "output_type": "stream",
          "text": [
            "7\n",
            "1       \n",
            "2 3      \n",
            "4 5 6     \n",
            "7 8 9 10    \n",
            "11 12 13 14 15   \n",
            "16 17 18 19 20 21  \n",
            "22 23 24 25 26 27 28 \n"
          ],
          "name": "stdout"
        }
      ]
    },
    {
      "cell_type": "code",
      "metadata": {
        "id": "3ks9S-hzCY9L"
      },
      "source": [
        ""
      ],
      "execution_count": null,
      "outputs": []
    }
  ]
}