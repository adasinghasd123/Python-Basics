{
  "nbformat": 4,
  "nbformat_minor": 0,
  "metadata": {
    "colab": {
      "name": "Python Basics.ipynb",
      "provenance": [],
      "authorship_tag": "ABX9TyMYnfSdD5o6yu1iHYcZfEFI",
      "include_colab_link": true
    },
    "kernelspec": {
      "name": "python3",
      "display_name": "Python 3"
    },
    "language_info": {
      "name": "python"
    }
  },
  "cells": [
    {
      "cell_type": "markdown",
      "metadata": {
        "id": "view-in-github",
        "colab_type": "text"
      },
      "source": [
        "<a href=\"https://colab.research.google.com/github/adasinghasd123/Python-Basics/blob/main/Python_Basics.ipynb\" target=\"_parent\"><img src=\"https://colab.research.google.com/assets/colab-badge.svg\" alt=\"Open In Colab\"/></a>"
      ]
    },
    {
      "cell_type": "code",
      "metadata": {
        "id": "i8-ikuIaI1ZF",
        "colab": {
          "base_uri": "https://localhost:8080/"
        },
        "outputId": "10aa6266-6988-43d3-d5e3-135fa01b3b94"
      },
      "source": [
        "#hcf\n",
        "a=int(input(\"First Number:-\"))\n",
        "b=int(input(\"Second Number:-\"))\n",
        "a1=[]\n",
        "for i in range(1,max(a,b)+1):\n",
        "  if a%i==0 and b%i==0:\n",
        "    a1.append(i)\n",
        "print(max(a1))     "
      ],
      "execution_count": null,
      "outputs": [
        {
          "output_type": "stream",
          "text": [
            "First Number:-198\n",
            "Second Number:-360\n",
            "18\n"
          ],
          "name": "stdout"
        }
      ]
    },
    {
      "cell_type": "code",
      "metadata": {
        "colab": {
          "base_uri": "https://localhost:8080/"
        },
        "id": "bPDP6VgkKEf-",
        "outputId": "2ceaf810-fc40-4fae-a8b7-d19c67c52dfc"
      },
      "source": [
        "#lcm using hcf\n",
        "a=int(input(\"First Number:-\"))\n",
        "b=int(input(\"Second Number:-\"))\n",
        "hcf=1\n",
        "for i in range(1,max(a,b)+1):\n",
        "  if a%i==0 and b%i==0:\n",
        "    hcf=i\n",
        "print((a*b)//hcf)    \n",
        " \n"
      ],
      "execution_count": null,
      "outputs": [
        {
          "output_type": "stream",
          "text": [
            "First Number:-60\n",
            "Second Number:-72\n",
            "360\n"
          ],
          "name": "stdout"
        }
      ]
    },
    {
      "cell_type": "code",
      "metadata": {
        "colab": {
          "base_uri": "https://localhost:8080/"
        },
        "id": "3ruzBZO2MLHf",
        "outputId": "ce77544f-1b61-4f98-a654-d319f2811597"
      },
      "source": [
        "# binary to decimal:\n",
        "binary=input()\n",
        "l=[]\n",
        "d=0\n",
        "for i in reversed(range(0,len(binary))):\n",
        "  l.append(int(binary[i]))\n",
        " \n",
        "for i in range(0,len(l)):\n",
        "  d+=l[i]*(2**i)\n",
        "  \n",
        "  \n",
        "print(d)  \n"
      ],
      "execution_count": null,
      "outputs": [
        {
          "output_type": "stream",
          "text": [
            "010111\n",
            "4169\n"
          ],
          "name": "stdout"
        }
      ]
    },
    {
      "cell_type": "code",
      "metadata": {
        "colab": {
          "base_uri": "https://localhost:8080/"
        },
        "id": "2v5ws9iqTXrt",
        "outputId": "525eea09-5386-4771-e18f-008061eaf826"
      },
      "source": [
        "#Quadrants in which a given coordinate lies\n",
        "x,y=map(int,input().split())\n",
        "if x>0 and y>0:\n",
        "  print(\"1st Quadrant\")\n",
        "elif x<0 and y>0:\n",
        "  print(\"2nd Quadrant\")\n",
        "elif x<0 and y<0:\n",
        "  print(\"3rd Quadrant\")\n",
        "else :\n",
        "  print(\"4th Quadrant\")      "
      ],
      "execution_count": 2,
      "outputs": [
        {
          "output_type": "stream",
          "text": [
            "-1 5\n",
            "2nd Quadrant\n"
          ],
          "name": "stdout"
        }
      ]
    },
    {
      "cell_type": "code",
      "metadata": {
        "id": "snUXgkdnZeW5",
        "colab": {
          "base_uri": "https://localhost:8080/"
        },
        "outputId": "1871bd74-0874-4836-bcb5-214dd392b030"
      },
      "source": [
        "#Permutations in which n people can occupy r seats:\n",
        "#For finding the factorial we use factorial function from math library\n",
        "import math as m\n",
        "n,r=map(int,input().split())\n",
        "N=m.factorial(n)\n",
        "R=m.factorial(n-r)\n",
        "ans=N//R\n",
        "print(ans)\n"
      ],
      "execution_count": 4,
      "outputs": [
        {
          "output_type": "stream",
          "text": [
            "6 5\n",
            "720\n"
          ],
          "name": "stdout"
        }
      ]
    },
    {
      "cell_type": "code",
      "metadata": {
        "id": "Oh2kzsnnU00f"
      },
      "source": [
        ""
      ],
      "execution_count": null,
      "outputs": []
    }
  ]
}