{
  "nbformat": 4,
  "nbformat_minor": 0,
  "metadata": {
    "colab": {
      "name": "Python Basics.ipynb",
      "provenance": [],
      "collapsed_sections": [],
      "authorship_tag": "ABX9TyMcDwtPUmjrMZ6n16TX8bky",
      "include_colab_link": true
    },
    "kernelspec": {
      "name": "python3",
      "display_name": "Python 3"
    },
    "language_info": {
      "name": "python"
    }
  },
  "cells": [
    {
      "cell_type": "markdown",
      "metadata": {
        "id": "view-in-github",
        "colab_type": "text"
      },
      "source": [
        "<a href=\"https://colab.research.google.com/github/adasinghasd123/Python-Basics/blob/main/Python_Basics.ipynb\" target=\"_parent\"><img src=\"https://colab.research.google.com/assets/colab-badge.svg\" alt=\"Open In Colab\"/></a>"
      ]
    },
    {
      "cell_type": "code",
      "metadata": {
        "id": "i8-ikuIaI1ZF",
        "colab": {
          "base_uri": "https://localhost:8080/"
        },
        "outputId": "af953795-fbc8-4d25-a60e-e99afeb76482"
      },
      "source": [
        "#hcf\n",
        "a=int(input(\"First Number:-\"))\n",
        "b=int(input(\"Second Number:-\"))\n",
        "a1=[]\n",
        "for i in range(1,max(a,b)+1):\n",
        "  if a%i==0 and b%i==0:\n",
        "    a1.append(i)\n",
        "print(max(a1))     "
      ],
      "execution_count": null,
      "outputs": [
        {
          "output_type": "stream",
          "text": [
            "First Number:-60\n",
            "Second Number:-72\n",
            "12\n"
          ],
          "name": "stdout"
        }
      ]
    },
    {
      "cell_type": "code",
      "metadata": {
        "colab": {
          "base_uri": "https://localhost:8080/"
        },
        "id": "bPDP6VgkKEf-",
        "outputId": "734202cf-a56b-4ffb-c4f0-0362a3c3cbe9"
      },
      "source": [
        "#lcm using hcf\n",
        "# lcm*hcf=a*b\n",
        "a=int(input(\"First Number:-\"))\n",
        "b=int(input(\"Second Number:-\"))\n",
        "hcf=1\n",
        "for i in range(1,max(a,b)+1):\n",
        "  if a%i==0 and b%i==0:\n",
        "    hcf=i\n",
        "print((a*b)//hcf)    \n",
        " \n"
      ],
      "execution_count": null,
      "outputs": [
        {
          "output_type": "stream",
          "text": [
            "First Number:-60\n",
            "Second Number:-72\n",
            "360\n"
          ],
          "name": "stdout"
        }
      ]
    },
    {
      "cell_type": "code",
      "metadata": {
        "colab": {
          "base_uri": "https://localhost:8080/"
        },
        "id": "3ruzBZO2MLHf",
        "outputId": "171edc92-5e7a-4303-9abe-9b88e22d4ca3"
      },
      "source": [
        "# binary to decimal:\n",
        "binary=input(\"Enter the binary number\")\n",
        "l=[]\n",
        "d=0\n",
        "for i in reversed(range(0,len(binary))):\n",
        "  l.append(int(binary[i]))\n",
        " \n",
        "for i in range(0,len(l)):\n",
        "  d+=l[i]*(2**i)\n",
        "  \n",
        "  \n",
        "print(d)  \n"
      ],
      "execution_count": null,
      "outputs": [
        {
          "output_type": "stream",
          "text": [
            "Enter the binary number100101\n",
            "37\n"
          ],
          "name": "stdout"
        }
      ]
    },
    {
      "cell_type": "code",
      "metadata": {
        "colab": {
          "base_uri": "https://localhost:8080/"
        },
        "id": "2v5ws9iqTXrt",
        "outputId": "38e50697-6cf1-4534-e171-1632b6a4ca8e"
      },
      "source": [
        "#Quadrants in which a given coordinate lies\n",
        "x,y=map(int,input(\"Enter the quadrant value\").split())\n",
        "if x>0 and y>0:\n",
        "  print(\"1st Quadrant\")\n",
        "elif x<0 and y>0:\n",
        "  print(\"2nd Quadrant\")\n",
        "elif x<0 and y<0:\n",
        "  print(\"3rd Quadrant\")\n",
        "else :\n",
        "  print(\"4th Quadrant\")      "
      ],
      "execution_count": null,
      "outputs": [
        {
          "output_type": "stream",
          "text": [
            "Enter the quadrant value-3 -4\n",
            "3rd Quadrant\n"
          ],
          "name": "stdout"
        }
      ]
    },
    {
      "cell_type": "code",
      "metadata": {
        "id": "snUXgkdnZeW5",
        "colab": {
          "base_uri": "https://localhost:8080/"
        },
        "outputId": "890619a9-5e69-4930-ee40-48c0d1c0440c"
      },
      "source": [
        "#Permutations in which n people can occupy r seats:\n",
        "#For finding the factorial we use factorial function from math library\n",
        "import math as m\n",
        "n,r=map(int,input(\"Enter the number of people and number of seats\").split())\n",
        "N=m.factorial(n)\n",
        "R=m.factorial(n-r)\n",
        "ans=N//R\n",
        "print(ans)\n"
      ],
      "execution_count": null,
      "outputs": [
        {
          "output_type": "stream",
          "text": [
            "Enter the number of people and number of seats9 5\n",
            "15120\n"
          ],
          "name": "stdout"
        }
      ]
    },
    {
      "cell_type": "markdown",
      "metadata": {
        "id": "HUwm_XjGW0sR"
      },
      "source": [
        ""
      ]
    },
    {
      "cell_type": "code",
      "metadata": {
        "colab": {
          "base_uri": "https://localhost:8080/"
        },
        "id": "Oh2kzsnnU00f",
        "outputId": "b417fae2-384b-4862-d47c-8ce0d71fc6bd"
      },
      "source": [
        "#Maximum Number Of Handshakes\n",
        "#total no of handshake by one particular person in always n-1 because in n he is also included.\n",
        "n=int(input(\"Enter the no of people\"))\n",
        "ans=(n*(n-1))//2\n",
        "print(ans)"
      ],
      "execution_count": null,
      "outputs": [
        {
          "output_type": "stream",
          "text": [
            "Enter the no of people30\n",
            "435\n"
          ],
          "name": "stdout"
        }
      ]
    },
    {
      "cell_type": "code",
      "metadata": {
        "colab": {
          "base_uri": "https://localhost:8080/"
        },
        "id": "OEsoiT0BXSMH",
        "outputId": "f957e4a5-464e-4703-8aac-75aac4034241"
      },
      "source": [
        "f1_nume = int(input('Enter the numerator for 1st fraction :'))\n",
        "f1_deno = int(input('Enter the denominator for the 1st fraction :'))\n",
        "f2_nume = int(input('Enter the numerator for 2nd fraction :'))\n",
        "f2_deno = int(input('Enter the denominator for the 2nd fraction :'))\n",
        "#check if denominators are same\n",
        "if(f1_deno == f2_deno):\n",
        "    #add numerator\n",
        "    Fraction = f1_nume + f2_nume\n",
        "    #print\n",
        "    print('Addition of two fractions are :' + str(Fraction) + '/' + str(f1_deno))\n",
        "#if denominators are not same    \n",
        "else:\n",
        "    Fraction = (f1_nume * f2_deno) + (f2_nume * f1_deno)\n",
        "    print('Addition of fractions are :' + str(Fraction) + '/' + str(f1_deno * f2_deno))"
      ],
      "execution_count": null,
      "outputs": [
        {
          "output_type": "stream",
          "text": [
            "Enter the numerator for 1st fraction :14\n",
            "Enter the denominator for the 1st fraction :10\n",
            "Enter the numerator for 2nd fraction :24\n",
            "Enter the denominator for the 2nd fraction :3\n",
            "Addition of fractions are :282/30\n"
          ],
          "name": "stdout"
        }
      ]
    },
    {
      "cell_type": "code",
      "metadata": {
        "id": "NyRuVbvaZOwy",
        "colab": {
          "base_uri": "https://localhost:8080/"
        },
        "outputId": "3e6825df-30f2-492f-d6a7-cb38016fed91"
      },
      "source": [
        "#Replace all 0’s with 1 in a given integer\n",
        "#we first convert integer to sring and then use find and replace function to replace 0 with 1\n",
        "n=int(input(\"Enter the number\"))\n",
        "n=str(n)\n",
        "print(n.replace('0','1',len(n) ))   \n"
      ],
      "execution_count": 23,
      "outputs": [
        {
          "output_type": "stream",
          "text": [
            "Enter the number12000333000\n",
            "12111333111\n"
          ],
          "name": "stdout"
        }
      ]
    },
    {
      "cell_type": "code",
      "metadata": {
        "id": "QI8RzBuyaCG1"
      },
      "source": [
        ""
      ],
      "execution_count": null,
      "outputs": []
    }
  ]
}