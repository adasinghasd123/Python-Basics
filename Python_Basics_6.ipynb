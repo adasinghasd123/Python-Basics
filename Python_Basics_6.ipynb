{
  "nbformat": 4,
  "nbformat_minor": 0,
  "metadata": {
    "colab": {
      "name": "Python_Basics_6.ipynb",
      "provenance": [],
      "authorship_tag": "ABX9TyMtRnibh++nFOjpQINW2F/K",
      "include_colab_link": true
    },
    "kernelspec": {
      "name": "python3",
      "display_name": "Python 3"
    },
    "language_info": {
      "name": "python"
    }
  },
  "cells": [
    {
      "cell_type": "markdown",
      "metadata": {
        "id": "view-in-github",
        "colab_type": "text"
      },
      "source": [
        "<a href=\"https://colab.research.google.com/github/adasinghasd123/Python-Basics/blob/main/Python_Basics_6.ipynb\" target=\"_parent\"><img src=\"https://colab.research.google.com/assets/colab-badge.svg\" alt=\"Open In Colab\"/></a>"
      ]
    },
    {
      "cell_type": "code",
      "metadata": {
        "colab": {
          "base_uri": "https://localhost:8080/"
        },
        "id": "atg5AuqjDxph",
        "outputId": "42969f5e-a748-479c-cca1-c2729ef64b32"
      },
      "source": [
        "#Length of the string without using strlen() function\n",
        "s=input()\n",
        "len=0\n",
        "for i in s:\n",
        "  len+=1\n",
        "print(len)  "
      ],
      "execution_count": 2,
      "outputs": [
        {
          "output_type": "stream",
          "text": [
            "Prepinsta\n",
            "9\n"
          ],
          "name": "stdout"
        }
      ]
    },
    {
      "cell_type": "code",
      "metadata": {
        "colab": {
          "base_uri": "https://localhost:8080/"
        },
        "id": "V9pwlZkhEefc",
        "outputId": "89b4e98c-3039-4cd9-e6b0-d0ddc6375614"
      },
      "source": [
        "#Toggle each character in a string\n",
        "\"\"\"\n",
        "The string is a combination of characters, but in programing language like python, a string is an independent datatype that can be treated as character or string both because in python string of length 1 is also a string, not character. In this python program, we will check the type of string available on the basis of their case:-\n",
        "\n",
        "Upper Case\n",
        "Lower Case\n",
        "If the string is in uppercase then we will be converting this in lowercase and lowercase in uppercase.\n",
        "\"\"\"\n",
        "#In this we use inbuilt function that is swapcase()\n",
        "s=input()\n",
        "ans=s.swapcase()\n",
        "print(ans)"
      ],
      "execution_count": 4,
      "outputs": [
        {
          "output_type": "stream",
          "text": [
            "Aniket\n",
            "aNIKET\n"
          ],
          "name": "stdout"
        }
      ]
    },
    {
      "cell_type": "code",
      "metadata": {
        "colab": {
          "base_uri": "https://localhost:8080/"
        },
        "id": "ulA-gtNkFEY3",
        "outputId": "ddb6d723-7113-4649-c03b-a4cf5dc9aa99"
      },
      "source": [
        "#Count the number of vowels in a string\n",
        "s=input()\n",
        "vo=['a','e','i','o','u']\n",
        "c=0\n",
        "for i in s:\n",
        "  if i.lower() in vo:\n",
        "    c+=1\n",
        "\n",
        "print(c)    "
      ],
      "execution_count": 7,
      "outputs": [
        {
          "output_type": "stream",
          "text": [
            "Aniket\n",
            "3\n"
          ],
          "name": "stdout"
        }
      ]
    },
    {
      "cell_type": "code",
      "metadata": {
        "colab": {
          "base_uri": "https://localhost:8080/"
        },
        "id": "fFsJ_2URF5IP",
        "outputId": "0547c623-25e6-4490-a938-1611a7dea4a9"
      },
      "source": [
        "#Remove the vowels from a string\n",
        "s=input()\n",
        "vo=['a','e','i','o','u']\n",
        "ans=''#taking the empty string\n",
        "for i in s:\n",
        "  if i.lower() not in vo: #checking the ith index character is vovwel or not.\n",
        "    ans+=i \n",
        "    \n",
        "\n",
        "print(ans)"
      ],
      "execution_count": 11,
      "outputs": [
        {
          "output_type": "stream",
          "text": [
            "Aniket\n",
            "nkt\n"
          ],
          "name": "stdout"
        }
      ]
    },
    {
      "cell_type": "code",
      "metadata": {
        "colab": {
          "base_uri": "https://localhost:8080/"
        },
        "id": "numK_URNHHwz",
        "outputId": "34939f4e-a38a-488e-bb22-1061f184ff9a"
      },
      "source": [
        "#Check if the given string is Palindrome or not\n",
        "s=input()\n",
        "\n",
        "if s==s[::-1]:\n",
        "  print(\"Palindrome\")\n",
        "else:\n",
        "  print(\"Not Palindrome\")  "
      ],
      "execution_count": 15,
      "outputs": [
        {
          "output_type": "stream",
          "text": [
            "Anilet\n",
            "Not Palindrome\n"
          ],
          "name": "stdout"
        }
      ]
    },
    {
      "cell_type": "code",
      "metadata": {
        "colab": {
          "base_uri": "https://localhost:8080/"
        },
        "id": "lczrQRhkJ5WU",
        "outputId": "3e821332-b0c0-40df-f4d9-77c2cbf0d673"
      },
      "source": [
        "#Print the given string in reverse order\n",
        "s=input()\n",
        "print(s[::-1])"
      ],
      "execution_count": 16,
      "outputs": [
        {
          "output_type": "stream",
          "text": [
            "Aniket\n",
            "tekinA\n"
          ],
          "name": "stdout"
        }
      ]
    },
    {
      "cell_type": "code",
      "metadata": {
        "colab": {
          "base_uri": "https://localhost:8080/"
        },
        "id": "BViU6enPKhvF",
        "outputId": "4479cf3a-39bd-4837-ef4a-dbaa7beb330f"
      },
      "source": [
        "#Remove all character from a string except alphabets\n",
        "s=input()\n",
        "ans=\"\"\n",
        "for i in s:\n",
        "  if i.isalpha():\n",
        "    ans+=i\n",
        "print(ans)    "
      ],
      "execution_count": 17,
      "outputs": [
        {
          "output_type": "stream",
          "text": [
            "aasdf12\n",
            "aasdf\n"
          ],
          "name": "stdout"
        }
      ]
    },
    {
      "cell_type": "code",
      "metadata": {
        "colab": {
          "base_uri": "https://localhost:8080/"
        },
        "id": "7UB-VYZDK19j",
        "outputId": "a8bdd77c-8b69-4dfc-87a3-d4ed8190e942"
      },
      "source": [
        "#Remove spaces from a string\n",
        "s=input()\n",
        "ans=\"\"\n",
        "for i in s:\n",
        "  if i!=' ':\n",
        "    ans+=i\n",
        "print(ans)    "
      ],
      "execution_count": 19,
      "outputs": [
        {
          "output_type": "stream",
          "text": [
            "Aniket Kumar Singh\n",
            "AniketKumarSingh\n"
          ],
          "name": "stdout"
        }
      ]
    },
    {
      "cell_type": "code",
      "metadata": {
        "colab": {
          "base_uri": "https://localhost:8080/"
        },
        "id": "sjVhW2exLVNE",
        "outputId": "2e1fe9e8-e0d9-495e-9f89-88d4aa28ab76"
      },
      "source": [
        "#Check if two Strings are Anagram or not\n",
        "s1=input()\n",
        "s2=input()\n",
        "s1=sorted(s1)\n",
        "s2=sorted(s2)\n",
        "if s1==s1:\n",
        "  print(\"Anagram\")\n",
        "else:\n",
        "  print(\"Not Anagram\")  \n"
      ],
      "execution_count": 21,
      "outputs": [
        {
          "output_type": "stream",
          "text": [
            "Anilet\n",
            "letAni\n",
            "Anagram\n"
          ],
          "name": "stdout"
        }
      ]
    },
    {
      "cell_type": "code",
      "metadata": {
        "colab": {
          "base_uri": "https://localhost:8080/"
        },
        "id": "xpKMjZG8MXix",
        "outputId": "7a23db2a-5026-40e8-a522-e9d371b88ab3"
      },
      "source": [
        "#How to replace a substring in a string\n",
        "s=input(\"Enter the string \")\n",
        "r=input(\"Enter the string to removed \")\n",
        "re=input(\"Enter the string to be replaced with \")\n",
        "ans=s.replace(r,re)\n",
        "print(ans)"
      ],
      "execution_count": 22,
      "outputs": [
        {
          "output_type": "stream",
          "text": [
            "Enter the stringAniket Kumar Singh\n",
            "Enter the string to removedSingh\n",
            "Enter the string to be replaced withS\n",
            "Aniket Kumar S\n"
          ],
          "name": "stdout"
        }
      ]
    },
    {
      "cell_type": "code",
      "metadata": {
        "id": "thlvuSCgOAHJ"
      },
      "source": [
        ""
      ],
      "execution_count": null,
      "outputs": []
    }
  ]
}