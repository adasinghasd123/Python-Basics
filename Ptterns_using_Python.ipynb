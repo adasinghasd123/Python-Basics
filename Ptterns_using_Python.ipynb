{
  "nbformat": 4,
  "nbformat_minor": 0,
  "metadata": {
    "colab": {
      "name": "Ptterns_using_Python.ipynb",
      "provenance": [],
      "collapsed_sections": [],
      "authorship_tag": "ABX9TyNiVl0aQZpDkdfXFZEw09D+",
      "include_colab_link": true
    },
    "kernelspec": {
      "name": "python3",
      "display_name": "Python 3"
    },
    "language_info": {
      "name": "python"
    }
  },
  "cells": [
    {
      "cell_type": "markdown",
      "metadata": {
        "id": "view-in-github",
        "colab_type": "text"
      },
      "source": [
        "<a href=\"https://colab.research.google.com/github/adasinghasd123/Python-Basics/blob/main/Ptterns_using_Python.ipynb\" target=\"_parent\"><img src=\"https://colab.research.google.com/assets/colab-badge.svg\" alt=\"Open In Colab\"/></a>"
      ]
    },
    {
      "cell_type": "code",
      "metadata": {
        "id": "ANw5KBfnld8m",
        "colab": {
          "base_uri": "https://localhost:8080/"
        },
        "outputId": "e3c3020e-3494-45f2-8024-fbcb28e2e444"
      },
      "source": [
        "row=int(input())\n",
        "col=(row+1)//2\n",
        "k=0\n",
        "for i in range(1,row+1):\n",
        "  if i<=(row+1)//2:\n",
        "    k+=1\n",
        "  else:\n",
        "    k-=1 \n",
        "  for j in range(1,col+1):\n",
        "    if j<=k:\n",
        "      print(\"*\",end='')\n",
        "    else:\n",
        "      print(' ',end='')\n",
        "  print()      "
      ],
      "execution_count": null,
      "outputs": [
        {
          "output_type": "stream",
          "text": [
            "9\n",
            "*    \n",
            "**   \n",
            "***  \n",
            "**** \n",
            "*****\n",
            "**** \n",
            "***  \n",
            "**   \n",
            "*    \n"
          ],
          "name": "stdout"
        }
      ]
    },
    {
      "cell_type": "code",
      "metadata": {
        "id": "__h801ROCUJL",
        "colab": {
          "base_uri": "https://localhost:8080/"
        },
        "outputId": "6ad2ad3a-523b-453f-94c7-a0cd33b8f16c"
      },
      "source": [
        "row=int(input())\n",
        "col=row*2-1\n",
        "k=0\n",
        "for i in range(1,row+1):\n",
        "  k+=1\n",
        "  for j in range(1,col+1):\n",
        "    if j>=k and j<=col+1-k:\n",
        "      print(\"*\",end='')\n",
        "    else:\n",
        "      print(' ',end='')\n",
        "  print()      "
      ],
      "execution_count": null,
      "outputs": [
        {
          "output_type": "stream",
          "text": [
            "10\n",
            "*******************\n",
            " ***************** \n",
            "  ***************  \n",
            "   *************   \n",
            "    ***********    \n",
            "     *********     \n",
            "      *******      \n",
            "       *****       \n",
            "        ***        \n",
            "         *         \n"
          ],
          "name": "stdout"
        }
      ]
    },
    {
      "cell_type": "code",
      "metadata": {
        "colab": {
          "base_uri": "https://localhost:8080/"
        },
        "id": "BGN-aWyDqraE",
        "outputId": "aec2803d-261f-4bf6-95d2-92831d603a31"
      },
      "source": [
        "row=int(input())\n",
        "col=row*2-1\n",
        "k=0\n",
        "\n",
        "for i in range(1,row+1):\n",
        "  k=i\n",
        "  \n",
        "  for j in range(1,col+1):\n",
        "    if j>((col+1)//2)-i and j<((col+1)//2)+i:\n",
        "      print(k,end='')\n",
        "      if j<((col+1)//2):\n",
        "        k+=1\n",
        "      else:\n",
        "        k-=1  \n",
        "    else:\n",
        "      print(' ',end='')\n",
        "  print()      "
      ],
      "execution_count": null,
      "outputs": [
        {
          "output_type": "stream",
          "text": [
            "5\n",
            "    1    \n",
            "   232   \n",
            "  34543  \n",
            " 4567654 \n",
            "567898765\n"
          ],
          "name": "stdout"
        }
      ]
    },
    {
      "cell_type": "code",
      "metadata": {
        "colab": {
          "base_uri": "https://localhost:8080/"
        },
        "id": "ac4WFFlStvGJ",
        "outputId": "c61e542a-e1af-472b-c69a-b8a73fe2a2eb"
      },
      "source": [
        "row=int(input())+1\n",
        "col=row\n",
        "for i in range(1,row+1):\n",
        "  k=row-i\n",
        "  for j in range(1,col+1):\n",
        "    if j<=col+1-i:\n",
        "      print(k,end='')\n",
        "      k-=1\n",
        "    else:\n",
        "      print(\" \",end='')\n",
        "  print()      "
      ],
      "execution_count": null,
      "outputs": [
        {
          "output_type": "stream",
          "text": [
            "6\n",
            "6543210\n",
            "543210 \n",
            "43210  \n",
            "3210   \n",
            "210    \n",
            "10     \n",
            "0      \n"
          ],
          "name": "stdout"
        }
      ]
    },
    {
      "cell_type": "code",
      "metadata": {
        "colab": {
          "base_uri": "https://localhost:8080/"
        },
        "id": "MulJbE1Txwbr",
        "outputId": "e3e96997-071b-40c0-a205-60ccbcb2189c"
      },
      "source": [
        "row=int(input())\n",
        "col=row//2+1\n",
        "k=0\n",
        "for i in range(1,row+1):\n",
        "  if i<=row//2+1:\n",
        "    k+=1\n",
        "  else:\n",
        "    k-=1 \n",
        "  c=1   \n",
        "  for j in range(1,col+1):\n",
        "    \n",
        "    if j>col-k:\n",
        "      print(c,end='')\n",
        "      c+=1\n",
        "    else:\n",
        "      print(\" \",end='')\n",
        "  print()      "
      ],
      "execution_count": null,
      "outputs": [
        {
          "output_type": "stream",
          "text": [
            "9\n",
            "    1\n",
            "   12\n",
            "  123\n",
            " 1234\n",
            "12345\n",
            " 1234\n",
            "  123\n",
            "   12\n",
            "    1\n"
          ],
          "name": "stdout"
        }
      ]
    },
    {
      "cell_type": "code",
      "metadata": {
        "colab": {
          "base_uri": "https://localhost:8080/"
        },
        "id": "3isjvPnzz0Zp",
        "outputId": "85b7c951-52ac-4e23-9139-b4e029ec978b"
      },
      "source": [
        "row=int(input())\n",
        "col=row\n",
        "p='\\\\'\n",
        "q='/'\n",
        "for i in range(1,row+1):\n",
        "  for j in range(1,col+1):\n",
        "    if j==i or j==col-i+1: \n",
        "      if j==8-i:\n",
        "        print(q,end='')\n",
        "      else:  \n",
        "        print(p,end='')\n",
        "    else:\n",
        "      print(\"*\",end='')\n",
        "  print()      \n"
      ],
      "execution_count": null,
      "outputs": [
        {
          "output_type": "stream",
          "text": [
            "7\n",
            "\\*****/\n",
            "*\\***/*\n",
            "**\\*/**\n",
            "***/***\n",
            "**/*\\**\n",
            "*/***\\*\n",
            "/*****\\\n"
          ],
          "name": "stdout"
        }
      ]
    },
    {
      "cell_type": "code",
      "metadata": {
        "id": "OGDTxJ97542d",
        "colab": {
          "base_uri": "https://localhost:8080/"
        },
        "outputId": "a8fbcea5-19e9-4630-aacc-be2ec9fe12e2"
      },
      "source": [
        "row=int(input())\n",
        "col=row\n",
        "k=0\n",
        "for i in range(1,row+1):\n",
        "  if i<=5:\n",
        "    k+=1\n",
        "  else:\n",
        "    k-=1  \n",
        "  for j in range(1,col+1):\n",
        "    if j<=(col//2+2)-k or j>=(col//2)+k :\n",
        "      print(\"*\",end='')\n",
        "    else:\n",
        "      print(\" \",end='')\n",
        "  print()      "
      ],
      "execution_count": null,
      "outputs": [
        {
          "output_type": "stream",
          "text": [
            "9\n",
            "*********\n",
            "**** ****\n",
            "***   ***\n",
            "**     **\n",
            "*       *\n",
            "**     **\n",
            "***   ***\n",
            "**** ****\n",
            "*********\n"
          ],
          "name": "stdout"
        }
      ]
    },
    {
      "cell_type": "code",
      "metadata": {
        "colab": {
          "base_uri": "https://localhost:8080/"
        },
        "id": "coK_2TFmb9PK",
        "outputId": "a2719429-a266-4ac3-ea48-95abf332bf89"
      },
      "source": [
        "row=int(input())\n",
        "col=row*2-1\n",
        "for i in range(1,row+1):\n",
        "  for j in range(1,col+1):\n",
        "    if j>=i and j<=col+1-i:\n",
        "      print(\"*\",end='')\n",
        "    else:\n",
        "      print(\" \",end='')\n",
        "  print()      "
      ],
      "execution_count": null,
      "outputs": [
        {
          "output_type": "stream",
          "text": [
            "5\n",
            "*********\n",
            " ******* \n",
            "  *****  \n",
            "   ***   \n",
            "    *    \n"
          ],
          "name": "stdout"
        }
      ]
    },
    {
      "cell_type": "code",
      "metadata": {
        "colab": {
          "base_uri": "https://localhost:8080/"
        },
        "id": "722wUbR2kmvZ",
        "outputId": "44f4e609-833f-41ea-f3b3-98a725f4c52d"
      },
      "source": [
        "row=int(input())\n",
        "col=row*2-1\n",
        "\n",
        "for i in range(1,row+1):\n",
        "  k=65\n",
        "  for j in range(1,col+1):\n",
        "     \n",
        "    if j>=(col//2+2)-i and j<=(col//2)+i:\n",
        "      print(chr(k),end='')\n",
        "      if j<row:\n",
        "          k+=1\n",
        "      else:\n",
        "          k-=1 \n",
        "    else:\n",
        "      print(\" \",end='')\n",
        "  print() \n"
      ],
      "execution_count": null,
      "outputs": [
        {
          "output_type": "stream",
          "text": [
            "4\n",
            "   A   \n",
            "  ABA  \n",
            " ABCBA \n",
            "ABCDCBA\n"
          ],
          "name": "stdout"
        }
      ]
    },
    {
      "cell_type": "code",
      "metadata": {
        "colab": {
          "base_uri": "https://localhost:8080/"
        },
        "id": "vwxJ0K4lq0d0",
        "outputId": "168ffffb-5a79-4330-86a9-83871c5bc254"
      },
      "source": [
        "row=int(input())\n",
        "col=row*2\n",
        "k=65\n",
        "for i in range(1,row+1):\n",
        "  for j in range(1,col+1):\n",
        "    if j>=row+1-i and j<=row+i:\n",
        "      \n",
        "      print(chr(k),end='')\n",
        "      k+=1\n",
        "    else:\n",
        "      print(\" \",end='')\n",
        "  print()      "
      ],
      "execution_count": null,
      "outputs": [
        {
          "output_type": "stream",
          "text": [
            "4\n",
            "   AB   \n",
            "  CDEF  \n",
            " GHIJKL \n",
            "MNOPQRST\n"
          ],
          "name": "stdout"
        }
      ]
    },
    {
      "cell_type": "code",
      "metadata": {
        "id": "oXdw4UrSwlUk",
        "colab": {
          "base_uri": "https://localhost:8080/"
        },
        "outputId": "41327a4d-a7fa-4840-98b0-8065e4a3a712"
      },
      "source": [
        "row=int(input())\n",
        "col=2*row\n",
        "for i in range(1,row+1):\n",
        "  for j in range(1,col+1):\n",
        "    if j>4-i and j<=col+1-i:\n",
        "      print(\"*\",end='')\n",
        "    else:\n",
        "      print(\" \",end='')\n",
        "  print()\n",
        "         "
      ],
      "execution_count": null,
      "outputs": [
        {
          "output_type": "stream",
          "text": [
            "4\n",
            "   *****\n",
            "  ***** \n",
            " *****  \n",
            "*****   \n"
          ],
          "name": "stdout"
        }
      ]
    },
    {
      "cell_type": "code",
      "metadata": {
        "colab": {
          "base_uri": "https://localhost:8080/"
        },
        "id": "pU-Paml_Uzz4",
        "outputId": "f7d5157b-0e57-420f-b4ec-f257f6a2b583"
      },
      "source": [
        "row=int(input())\n",
        "col=2*row-1\n",
        "for i in range(1,row+1):\n",
        "  a=1\n",
        "  b=65\n",
        "  for j in range(1,col+1):\n",
        "    if j>=col//2+2-i and j<=col//2+1:\n",
        "      print(a,end='')\n",
        "      a+=1\n",
        "    elif j>col//2+1 and j<col//2+1+i:\n",
        "      print(chr(b),end='')\n",
        "      b+=1 \n",
        "    else:\n",
        "      print(\" \",end='')\n",
        "  print()\n",
        "         "
      ],
      "execution_count": null,
      "outputs": [
        {
          "output_type": "stream",
          "text": [
            "4\n",
            "   1   \n",
            "  12A  \n",
            " 123AB \n",
            "1234ABC\n"
          ],
          "name": "stdout"
        }
      ]
    },
    {
      "cell_type": "code",
      "metadata": {
        "colab": {
          "base_uri": "https://localhost:8080/"
        },
        "id": "I-A0P5MMWDBU",
        "outputId": "fcd050d4-b4d7-4560-e64b-5f9d5523b9ee"
      },
      "source": [
        "row=int(input())\n",
        "col=row\n",
        "for i in range(1,row+1):\n",
        "  for j in range(1,col+1):\n",
        "    if j<=i:\n",
        "      if j%2!=0:\n",
        "        print(\"|\",end='')\n",
        "      else:\n",
        "        print(\"0\",end='')\n",
        "    else:\n",
        "      print(\" \",end='')  \n",
        "  print()      "
      ],
      "execution_count": null,
      "outputs": [
        {
          "output_type": "stream",
          "text": [
            "6\n",
            "|     \n",
            "|0    \n",
            "|0|   \n",
            "|0|0  \n",
            "|0|0| \n",
            "|0|0|0\n"
          ],
          "name": "stdout"
        }
      ]
    },
    {
      "cell_type": "code",
      "metadata": {
        "colab": {
          "base_uri": "https://localhost:8080/"
        },
        "id": "FhCwr7ePY_xn",
        "outputId": "740ab8c4-5323-43f0-ae74-6378c3669b97"
      },
      "source": [
        "row=int(input())\n",
        "col=row\n",
        "for i in range(1,row+1):\n",
        "  for j in range(1,col+1):\n",
        "    if j==1 or i==1 or j==7 or i==7:\n",
        "      print(\"*\",end='')\n",
        "    elif i>=3 and i<=5 and j>=3 and j<=5:\n",
        "      if i==4 and j==4:\n",
        "        print(\" \",end='')\n",
        "      else:  \n",
        "        print(\"*\",end='')\n",
        "      \n",
        "    else:\n",
        "      print(\" \",end='')  \n",
        "  print()      "
      ],
      "execution_count": null,
      "outputs": [
        {
          "output_type": "stream",
          "text": [
            "7\n",
            "*******\n",
            "*     *\n",
            "* *** *\n",
            "* * * *\n",
            "* *** *\n",
            "*     *\n",
            "*******\n"
          ],
          "name": "stdout"
        }
      ]
    },
    {
      "cell_type": "code",
      "metadata": {
        "id": "Id9BXqwMd9Ka",
        "colab": {
          "base_uri": "https://localhost:8080/"
        },
        "outputId": "9ef419b0-1385-45bc-9dd8-b0ed0371ef88"
      },
      "source": [
        "from itertools import permutations\n",
        "n=int(input())\n",
        "l=[]\n",
        "for i in range(n):\n",
        "  l.append(int(input()))\n",
        "q=int(input())  \n",
        "comb = permutations(l,3)\n",
        "c=0\n",
        "for i in comb:\n",
        "  su=sum(i)\n",
        "  if su==q:\n",
        "    c+=1\n",
        "  else:\n",
        "    continue  \n",
        "if c!=0:\n",
        "  print(\"True\")\n",
        "else:\n",
        "  print(\"False\")      "
      ],
      "execution_count": null,
      "outputs": [
        {
          "output_type": "stream",
          "text": [
            "4\n",
            "1\n",
            "3\n",
            "12\n",
            "4\n",
            "14\n",
            "False\n"
          ],
          "name": "stdout"
        }
      ]
    },
    {
      "cell_type": "code",
      "metadata": {
        "colab": {
          "base_uri": "https://localhost:8080/"
        },
        "id": "wjWWXmAH4JRa",
        "outputId": "01a8c01d-a1e2-4730-97f2-91fa211d87ac"
      },
      "source": [
        "row=int(input())\n",
        "col=row\n",
        "k=0\n",
        "for i in range(1,row+1):\n",
        "  if i <=11:\n",
        "    k+=1\n",
        "  else:\n",
        "    k-=1  \n",
        "  l=0  \n",
        "  for j in range(1,col+1):\n",
        "    if j>=col//2+2-k and j<=col//2+k:\n",
        "      print(l,end='')\n",
        "    else:\n",
        "      print(\" \",end='')\n",
        "      \n",
        "  print()      "
      ],
      "execution_count": null,
      "outputs": [
        {
          "output_type": "stream",
          "text": [
            "21\n",
            "          0          \n",
            "         000         \n",
            "        00000        \n",
            "       0000000       \n",
            "      000000000      \n",
            "     00000000000     \n",
            "    0000000000000    \n",
            "   000000000000000   \n",
            "  00000000000000000  \n",
            " 0000000000000000000 \n",
            "000000000000000000000\n",
            " 0000000000000000000 \n",
            "  00000000000000000  \n",
            "   000000000000000   \n",
            "    0000000000000    \n",
            "     00000000000     \n",
            "      000000000      \n",
            "       0000000       \n",
            "        00000        \n",
            "         000         \n",
            "          0          \n"
          ],
          "name": "stdout"
        }
      ]
    },
    {
      "cell_type": "code",
      "metadata": {
        "id": "-q7lc2AH5o5F",
        "colab": {
          "base_uri": "https://localhost:8080/"
        },
        "outputId": "f5f35062-6a40-4027-b2f8-9d9ef08229d3"
      },
      "source": [
        "row=int(input())\n",
        "col=row\n",
        "k=65\n",
        "for i in range(1,row+1):\n",
        "  for j in range(1,col+1):\n",
        "    if j<=i:\n",
        "      print(chr(k),end='')\n",
        "      k-=1\n",
        "    else:\n",
        "      print(\" \",end='')\n",
        "  k=65+i    \n",
        "  print()      "
      ],
      "execution_count": null,
      "outputs": [
        {
          "output_type": "stream",
          "text": [
            "4\n",
            "A   \n",
            "BA  \n",
            "CBA \n",
            "DCBA\n"
          ],
          "name": "stdout"
        }
      ]
    },
    {
      "cell_type": "code",
      "metadata": {
        "colab": {
          "base_uri": "https://localhost:8080/"
        },
        "id": "n2nGUxkCgELl",
        "outputId": "7023779d-6f32-46e1-9657-2df380b2c04f"
      },
      "source": [
        "row=int(input())\n",
        "col=row*2-1\n",
        "for i in range(1,row+1):\n",
        "  k=i+1\n",
        "  for j in range(1,col+1):\n",
        "    \n",
        "    if j>=col//2+2-i and j<col//2+1+i:\n",
        "      if j<=col//2+1:\n",
        "        k-=1\n",
        "      else:\n",
        "        k+=1\n",
        "      print(k,end='')\n",
        "    else:\n",
        "      print(\" \",end='')\n",
        "        \n",
        "  print()      "
      ],
      "execution_count": null,
      "outputs": [
        {
          "output_type": "stream",
          "text": [
            "4\n",
            "   1   \n",
            "  212  \n",
            " 32123 \n",
            "4321234\n"
          ],
          "name": "stdout"
        }
      ]
    },
    {
      "cell_type": "code",
      "metadata": {
        "colab": {
          "base_uri": "https://localhost:8080/"
        },
        "id": "TWEBp4EEhCMl",
        "outputId": "e14b1564-2043-417e-ca82-132dd0f39d6c"
      },
      "source": [
        "row=int(input())\n",
        "col=row*2-1\n",
        "for i in range(1,row+1):\n",
        "  for j in range(1,col+1):\n",
        "    if j<=i*2-1:\n",
        "      if j%2!=0:\n",
        "        print(i,end='')\n",
        "      else:\n",
        "         print(\"*\",end='') \n",
        "    else:\n",
        "      print(\" \",end='')\n",
        "  print()      "
      ],
      "execution_count": null,
      "outputs": [
        {
          "output_type": "stream",
          "text": [
            "5\n",
            "1        \n",
            "2*2      \n",
            "3*3*3    \n",
            "4*4*4*4  \n",
            "5*5*5*5*5\n"
          ],
          "name": "stdout"
        }
      ]
    },
    {
      "cell_type": "code",
      "metadata": {
        "colab": {
          "base_uri": "https://localhost:8080/"
        },
        "id": "35hxdz5_kjVb",
        "outputId": "3e2c3907-1fdd-4090-addc-d36563cad986"
      },
      "source": [
        " row=int(input())\n",
        " col=row\n",
        " k=64\n",
        " for i in range(1,row+1):\n",
        "   k+=2*i-1\n",
        "   for j in range(1,col+1):\n",
        "     if j>col-i:\n",
        "       print(chr(k),end='')\n",
        "       k-=1\n",
        "     else:\n",
        "       print(\" \",end='')\n",
        "   print()\n",
        "    "
      ],
      "execution_count": null,
      "outputs": [
        {
          "output_type": "stream",
          "text": [
            "5\n",
            "    A\n",
            "   CB\n",
            "  FED\n",
            " JIHG\n",
            "ONMLK\n"
          ],
          "name": "stdout"
        }
      ]
    },
    {
      "cell_type": "code",
      "metadata": {
        "id": "MVWf5tECqFx9"
      },
      "source": [
        " row=int(input())\n",
        " col=row\n",
        " k=64\n",
        " for i in range(1,row+1):\n",
        "   k+=2*i-1\n",
        "   for j in range(1,col+1):\n",
        "     if j>col-i:\n",
        "       print(chr(k),end='')\n",
        "       k-=1\n",
        "     else:\n",
        "       print(\" \",end='')\n",
        "   print()"
      ],
      "execution_count": null,
      "outputs": []
    },
    {
      "cell_type": "code",
      "metadata": {
        "colab": {
          "base_uri": "https://localhost:8080/"
        },
        "id": "VzbFxjtGsVaz",
        "outputId": "7f4bc006-c2b4-4d38-ebdc-d66570fc9a97"
      },
      "source": [
        " row=int(input())\n",
        " col=row\n",
        " \n",
        " for i in range(1,row+1):\n",
        "   \n",
        "   for j in range(1,col+1):\n",
        "     if j==i or j==col+1-i:\n",
        "       print(\"*\",end='')\n",
        "    \n",
        "     else:\n",
        "       print(\" \",end='')\n",
        "   print()"
      ],
      "execution_count": null,
      "outputs": [
        {
          "output_type": "stream",
          "text": [
            "5\n",
            "*   *\n",
            " * * \n",
            "  *  \n",
            " * * \n",
            "*   *\n"
          ],
          "name": "stdout"
        }
      ]
    },
    {
      "cell_type": "code",
      "metadata": {
        "colab": {
          "base_uri": "https://localhost:8080/"
        },
        "id": "etsYNgD5F_zP",
        "outputId": "0f99f319-373e-4462-dddd-acfd93df09aa"
      },
      "source": [
        "row=int(input())\n",
        "col=row*2-1\n",
        "\n",
        "for i in range(1,row+1):\n",
        "  k=65\n",
        "  for j in range(1,col+1):\n",
        "    if j<=col//2+2-i or j>=col//2+i:\n",
        "      print(chr(k),end='')\n",
        "      k+=1\n",
        "    else:\n",
        "      print(\" \",end='')\n",
        "      k+=1\n",
        "  print()      "
      ],
      "execution_count": 4,
      "outputs": [
        {
          "output_type": "stream",
          "text": [
            "4\n",
            "ABCDEFG\n",
            "ABC EFG\n",
            "AB   FG\n",
            "A     G\n"
          ],
          "name": "stdout"
        }
      ]
    },
    {
      "cell_type": "code",
      "metadata": {
        "id": "rvxGYL0mYJJS",
        "colab": {
          "base_uri": "https://localhost:8080/"
        },
        "outputId": "b68d43e2-1a3e-4b69-8381-94f15ded7006"
      },
      "source": [
        "row=int(input())\n",
        "col=col\n",
        "k=1\n",
        "for i in range(1,row+1):\n",
        "  c=k\n",
        "  k+=row+1-i\n",
        "  for j in range(1,col+1):\n",
        "    if j<=i:\n",
        "      print(c,end=' ')\n",
        "      c=c-(row-i+j)\n",
        "    else:\n",
        "      print(\" \",end='')\n",
        "  print()      "
      ],
      "execution_count": 7,
      "outputs": [
        {
          "output_type": "stream",
          "text": [
            "5\n",
            "1       \n",
            "6 2      \n",
            "10 7 3     \n",
            "13 11 8 4    \n",
            "15 14 12 9 5   \n"
          ],
          "name": "stdout"
        }
      ]
    },
    {
      "cell_type": "code",
      "metadata": {
        "colab": {
          "base_uri": "https://localhost:8080/"
        },
        "id": "hurR546krI8W",
        "outputId": "55e16b22-316a-45f4-c705-ce073e2a95f9"
      },
      "source": [
        "row=int(input())\n",
        "col=row*2-1\n",
        "for i in range(1,row+1):\n",
        "  for j in range(1,col+1):\n",
        "    if j>=col//2+2-i and j<col//2+1+i:\n",
        "      if i%2!=0:\n",
        "        if j%2==0:\n",
        "          print(\"*\",end='')\n",
        "        else:\n",
        "          print(\" \",end='')  \n",
        "      else:\n",
        "        if j%2!=0:\n",
        "          print(\"*\",end='')\n",
        "        else:\n",
        "          print(\" \",end='')      \n",
        "    else:\n",
        "      print(\" \",end='')\n",
        "  print()"
      ],
      "execution_count": null,
      "outputs": [
        {
          "output_type": "stream",
          "text": [
            "4\n",
            "   *   \n",
            "  * *  \n",
            " * * * \n",
            "* * * *\n"
          ],
          "name": "stdout"
        }
      ]
    },
    {
      "cell_type": "code",
      "metadata": {
        "colab": {
          "base_uri": "https://localhost:8080/"
        },
        "id": "x8BpZEzSwaFa",
        "outputId": "5b1d9e90-1f61-4399-ffbf-60aa79c9c9d2"
      },
      "source": [
        "row=int(input())\n",
        "col=row\n",
        "\n",
        "for i in range(1,row+1):\n",
        "  k=0\n",
        "  for j in range(1,col+1):\n",
        "    if j<=i:\n",
        "      print(k,end=' ')\n",
        "      k=k+i-1\n",
        "    else:\n",
        "      print(\" \",end='')\n",
        "  print()      "
      ],
      "execution_count": 1,
      "outputs": [
        {
          "output_type": "stream",
          "text": [
            "5\n",
            "0     \n",
            "0 1    \n",
            "0 2 4   \n",
            "0 3 6 9  \n",
            "0 4 8 12 16 \n"
          ],
          "name": "stdout"
        }
      ]
    },
    {
      "cell_type": "code",
      "metadata": {
        "id": "4WFv0HTyCnNt"
      },
      "source": [
        ""
      ],
      "execution_count": null,
      "outputs": []
    }
  ]
}