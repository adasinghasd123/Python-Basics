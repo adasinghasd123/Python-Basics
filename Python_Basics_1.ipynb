{
  "nbformat": 4,
  "nbformat_minor": 0,
  "metadata": {
    "colab": {
      "name": "Python Basics_1.ipynb",
      "provenance": [],
      "authorship_tag": "ABX9TyOyu3o/p4HvMjRpjO+6x85h",
      "include_colab_link": true
    },
    "kernelspec": {
      "name": "python3",
      "display_name": "Python 3"
    },
    "language_info": {
      "name": "python"
    }
  },
  "cells": [
    {
      "cell_type": "markdown",
      "metadata": {
        "id": "view-in-github",
        "colab_type": "text"
      },
      "source": [
        "<a href=\"https://colab.research.google.com/github/adasinghasd123/Python-Basics/blob/main/Python_Basics_1.ipynb\" target=\"_parent\"><img src=\"https://colab.research.google.com/assets/colab-badge.svg\" alt=\"Open In Colab\"/></a>"
      ]
    },
    {
      "cell_type": "code",
      "metadata": {
        "colab": {
          "base_uri": "https://localhost:8080/"
        },
        "id": "2-HHv1z4uAyE",
        "outputId": "dbb18859-9723-49ac-85d2-804d81c36ce1"
      },
      "source": [
        "#factorial\n",
        "def factorial(n):\n",
        "  fact=1\n",
        "  for i in range(1,n+1):\n",
        "    fact=fact*i\n",
        "  return fact\n",
        "if __name__ == '__main__':\n",
        "  n=int(input(\"Enter the Number\"))\n",
        "  result=factorial(n)\n",
        "  print(result)    "
      ],
      "execution_count": 1,
      "outputs": [
        {
          "output_type": "stream",
          "text": [
            "Enter the Number7\n",
            "5040\n"
          ],
          "name": "stdout"
        }
      ]
    },
    {
      "cell_type": "code",
      "metadata": {
        "colab": {
          "base_uri": "https://localhost:8080/"
        },
        "id": "m-vGSUtLui5T",
        "outputId": "3bd83d5f-61cb-4d7f-cdb4-b5bd7621f5fd"
      },
      "source": [
        "#fibonaaci\n",
        "def fibonacci(n):\n",
        "  fib=[0]*n\n",
        "  fib[0]=0\n",
        "  fib[1]=1\n",
        "  for i in range(0,n-2):\n",
        "    fib[i+2]=fib[i]+fib[i+1]\n",
        "  return fib\n",
        "if __name__ == '__main__':\n",
        "  n=int(input(\"Enter the number \"))\n",
        "  result=fibonacci(n)\n",
        "  for i in result:\n",
        "    print(i,end=' ')   "
      ],
      "execution_count": 2,
      "outputs": [
        {
          "output_type": "stream",
          "text": [
            "Enter the number 9\n",
            "0 1 1 2 3 5 8 13 21 "
          ],
          "name": "stdout"
        }
      ]
    },
    {
      "cell_type": "code",
      "metadata": {
        "colab": {
          "base_uri": "https://localhost:8080/"
        },
        "id": "N4y6bkaxxBx7",
        "outputId": "07d6c65b-81b4-4b68-c95f-24268125cca6"
      },
      "source": [
        "#Reverse a number\n",
        "def revnum(n):\n",
        "  rev=0\n",
        "  while n>0:\n",
        "    rem=n%10\n",
        "    rev=rev*10+rem\n",
        "    n=n//10\n",
        "  return rev\n",
        "\n",
        "\n",
        "if __name__ == '__main__':\n",
        "  n=int(input(\"Enter the number \"))\n",
        "  result=revnum(n)\n",
        "  print(result)\n"
      ],
      "execution_count": 3,
      "outputs": [
        {
          "output_type": "stream",
          "text": [
            "Enter the number 234\n",
            "432\n"
          ],
          "name": "stdout"
        }
      ]
    },
    {
      "cell_type": "code",
      "metadata": {
        "colab": {
          "base_uri": "https://localhost:8080/"
        },
        "id": "CWGkky_Vzj5e",
        "outputId": "be78c3e7-20aa-41f2-8a54-a69bc4b51f9d"
      },
      "source": [
        "#Reverse a String:\n",
        "\n",
        "def revstr(n):\n",
        "  m=\"\"\n",
        "  for i in reversed(range(len(n))):\n",
        "    m=m+n[i]\n",
        "\n",
        "  \n",
        "  return m\n",
        "\n",
        "\n",
        "if __name__ == '__main__':\n",
        "  n=input(\"Enter the string:- \")\n",
        "  result=revstr(n)\n",
        "  print(result)\n"
      ],
      "execution_count": 5,
      "outputs": [
        {
          "output_type": "stream",
          "text": [
            "Enter the string:- aniket\n",
            "tekina\n"
          ],
          "name": "stdout"
        }
      ]
    },
    {
      "cell_type": "code",
      "metadata": {
        "colab": {
          "base_uri": "https://localhost:8080/"
        },
        "id": "M17nJwtB0ncA",
        "outputId": "d3b65d8e-d613-44bc-9c55-86f1356d86ad"
      },
      "source": [
        "#Palindrome\n",
        "\n",
        "def revstr(n):\n",
        "  m=\"\"\n",
        "  for i in reversed(range(len(n))):\n",
        "    m=m+n[i]\n",
        "  if n==m:\n",
        "    return \"Palindrome\"\n",
        "  else:\n",
        "    return \"Not Palindrome\"  \n",
        "  \n",
        "  \n",
        "\n",
        "\n",
        "if __name__ == '__main__':\n",
        "  n=input(\"Enter the number/string:- \")\n",
        "  result=revstr(n)\n",
        "  print(result)\n"
      ],
      "execution_count": 6,
      "outputs": [
        {
          "output_type": "stream",
          "text": [
            "Enter the number/string:- aniket\n",
            "Not Palindrome\n"
          ],
          "name": "stdout"
        }
      ]
    },
    {
      "cell_type": "code",
      "metadata": {
        "colab": {
          "base_uri": "https://localhost:8080/"
        },
        "id": "OZfSVqUb17dE",
        "outputId": "a490cbc3-1c4c-4512-8a03-053f4351efb1"
      },
      "source": [
        "#Prme number\n",
        "def pn(n):\n",
        "  c=0\n",
        "  for i in range(1,n+1):\n",
        "    if n%i==0:\n",
        "      \n",
        "      c=c+1\n",
        "  if c==2:\n",
        "    return \"Prime\"\n",
        "  else:\n",
        "    return \"Not Prime\"      \n",
        "\n",
        "  \n",
        "  \n",
        "\n",
        "\n",
        "if __name__ == '__main__':\n",
        "  n=int(input(\"Enter the number\"))\n",
        "  result=pn(n)\n",
        "  print(result)\n"
      ],
      "execution_count": 7,
      "outputs": [
        {
          "output_type": "stream",
          "text": [
            "Enter the number7\n",
            "Prime\n"
          ],
          "name": "stdout"
        }
      ]
    },
    {
      "cell_type": "code",
      "metadata": {
        "colab": {
          "base_uri": "https://localhost:8080/"
        },
        "id": "qHsPmiT74YZ2",
        "outputId": "dab3bf21-4cbd-4dcd-b28a-54f409cd513d"
      },
      "source": [
        "#Armstrong Number\n",
        "def an(n):\n",
        "  m=n\n",
        "  l=[]\n",
        "  sum=0\n",
        "  while m>0:\n",
        "    l.append(m%10)\n",
        "    m=m//10\n",
        "  for i in l:  \n",
        "    sum=sum+i**len(l)\n",
        "  if sum==n:\n",
        "    return \"Armstrong\"\n",
        "  else:\n",
        "    return \"Not Armstrong\"   \n",
        "\n",
        "if __name__ == '__main__':\n",
        "  n=int(input(\"Enter the number\"))\n",
        "  result=an(n)\n",
        "  print(result)\n"
      ],
      "execution_count": 8,
      "outputs": [
        {
          "output_type": "stream",
          "text": [
            "Enter the number45\n",
            "Not Armstrong\n"
          ],
          "name": "stdout"
        }
      ]
    }
  ]
}