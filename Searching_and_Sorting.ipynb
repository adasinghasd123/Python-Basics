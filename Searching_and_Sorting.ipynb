{
  "nbformat": 4,
  "nbformat_minor": 0,
  "metadata": {
    "colab": {
      "name": "Searching and Sorting.ipynb",
      "provenance": [],
      "authorship_tag": "ABX9TyNCyrYGTPAJAX/HFeWt/C5+",
      "include_colab_link": true
    },
    "kernelspec": {
      "name": "python3",
      "display_name": "Python 3"
    },
    "language_info": {
      "name": "python"
    }
  },
  "cells": [
    {
      "cell_type": "markdown",
      "metadata": {
        "id": "view-in-github",
        "colab_type": "text"
      },
      "source": [
        "<a href=\"https://colab.research.google.com/github/adasinghasd123/Python-Basics/blob/main/Searching_and_Sorting.ipynb\" target=\"_parent\"><img src=\"https://colab.research.google.com/assets/colab-badge.svg\" alt=\"Open In Colab\"/></a>"
      ]
    },
    {
      "cell_type": "markdown",
      "metadata": {
        "id": "CunEiqhWsHvH"
      },
      "source": [
        "# **Serching and Sorting** "
      ]
    },
    {
      "cell_type": "code",
      "metadata": {
        "colab": {
          "base_uri": "https://localhost:8080/"
        },
        "id": "nzpAwfiLr_Ql",
        "outputId": "06ce5a38-a0ac-4654-83db-d5ddd92a48e5"
      },
      "source": [
        "#Linear Search:\n",
        "ar=list(map(int,input().split()))\n",
        "element=int(input())\n",
        "count=0\n",
        "for i in ar:\n",
        "  if i==element:\n",
        "    print(\"Element \"+ str(element) + \" found at position \" + str(ar.index(i)))\n",
        "    count+=1\n",
        "  \n",
        "if count==0:\n",
        "  print(\"element not found\")    \n",
        "   "
      ],
      "execution_count": null,
      "outputs": [
        {
          "output_type": "stream",
          "text": [
            "1 2 3 4 5\n",
            "8 \n",
            "element not found\n"
          ],
          "name": "stdout"
        }
      ]
    },
    {
      "cell_type": "code",
      "metadata": {
        "colab": {
          "base_uri": "https://localhost:8080/"
        },
        "id": "ehrE5WIEsqsl",
        "outputId": "2619a7b1-ddc6-4490-b01b-feace8b4c243"
      },
      "source": [
        "#Binary Search\n",
        "def BinarySearch(ar,element,l):\n",
        "  ar.sort()\n",
        "  low=0\n",
        "  high=l-1\n",
        "  while low<=high:\n",
        "    mid=(low+high)//2\n",
        "    if ar[mid]==element:\n",
        "      return mid\n",
        "    elif element>mid:\n",
        "      low=mid+1\n",
        "    else:\n",
        "      high=mid-1    \n",
        "  return -1\n",
        "\n",
        "ar=list(map(int,input().split()))\n",
        "element=int(input())\n",
        "ans=BinarySearch(ar,element,len(ar))\n",
        "if ans==-1:\n",
        "  print(\"element not found\")\n",
        "else:\n",
        "  print(\"element found at index \"+ str(ans))  \n",
        "\n",
        "\n"
      ],
      "execution_count": 7,
      "outputs": [
        {
          "output_type": "stream",
          "text": [
            "9 8 7 6 5 4 3 2 1\n",
            "8\n",
            "element found at index 7\n"
          ],
          "name": "stdout"
        }
      ]
    },
    {
      "cell_type": "code",
      "metadata": {
        "colab": {
          "base_uri": "https://localhost:8080/"
        },
        "id": "v8bD8E3Yx6ua",
        "outputId": "824a2685-6e10-4194-bc02-b626f16d830d"
      },
      "source": [
        "#Selection Sort\n",
        "ar=list(map(int,input().split()))\n",
        "for i in range(0,len(ar)-1):\n",
        "  min=i\n",
        "  for j in range(i+1,len(ar)):\n",
        "    if ar[j]<ar[min]:\n",
        "      min=j\n",
        "  temp=ar[i]\n",
        "  ar[i]=ar[min]\n",
        "  ar[min]=temp\n",
        "print(ar)      "
      ],
      "execution_count": null,
      "outputs": [
        {
          "output_type": "stream",
          "text": [
            "9 8 7 6 5 4 3 2\n",
            "[2, 3, 4, 5, 6, 7, 8, 9]\n"
          ],
          "name": "stdout"
        }
      ]
    },
    {
      "cell_type": "code",
      "metadata": {
        "colab": {
          "base_uri": "https://localhost:8080/"
        },
        "id": "yYoZJX7m6DKt",
        "outputId": "7d4d50c7-d341-4dae-f284-4ca38e45b332"
      },
      "source": [
        "#Insertion Sort\n",
        "ar=list(map(int,input().split()))\n",
        "for i in range(1,len(ar)):\n",
        "  key=ar[i]\n",
        "  j=i-1\n",
        "  while j>=0 and ar[j]>key:\n",
        "    ar[j+1]=ar[j]\n",
        "    j=j-1\n",
        "  ar[j+1]=key\n",
        "print(ar)    "
      ],
      "execution_count": null,
      "outputs": [
        {
          "output_type": "stream",
          "text": [
            "9 8 7  55 4 4 3\n",
            "[3, 4, 4, 7, 8, 9, 55]\n"
          ],
          "name": "stdout"
        }
      ]
    },
    {
      "cell_type": "code",
      "metadata": {
        "colab": {
          "base_uri": "https://localhost:8080/"
        },
        "id": "50UL4Ygu_6e1",
        "outputId": "8d6c5aae-a23a-47aa-b2aa-c07f21e13da9"
      },
      "source": [
        "#Bubble Sort\n",
        "ar=list(map(int,input().split()))\n",
        "for i in range(0,len(ar)-1):\n",
        "  for j in range(0,len(ar)-1):\n",
        "    if ar[j]> ar[j+1]:\n",
        "      temp=ar[j]\n",
        "      ar[j]=ar[j+1]\n",
        "      ar[j+1]=temp\n",
        "print(ar)      \n"
      ],
      "execution_count": null,
      "outputs": [
        {
          "output_type": "stream",
          "text": [
            "9 8 7 6 6 5 4 4 \n",
            "[4, 4, 5, 6, 6, 7, 8, 9]\n"
          ],
          "name": "stdout"
        }
      ]
    },
    {
      "cell_type": "code",
      "metadata": {
        "id": "Iup6k-v2rakR"
      },
      "source": [
        ""
      ],
      "execution_count": null,
      "outputs": []
    }
  ]
}